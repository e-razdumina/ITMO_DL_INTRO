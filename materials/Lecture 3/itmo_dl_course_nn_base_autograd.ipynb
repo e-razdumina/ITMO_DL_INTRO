{
  "nbformat": 4,
  "nbformat_minor": 0,
  "metadata": {
    "colab": {
      "provenance": [],
      "toc_visible": true
    },
    "kernelspec": {
      "name": "python3",
      "display_name": "Python 3"
    },
    "language_info": {
      "name": "python"
    }
  },
  "cells": [
    {
      "cell_type": "markdown",
      "metadata": {
        "id": "9NSTCyMhHbSq"
      },
      "source": [
        "### PyTorch Autograd - automatic differentiation engine\n",
        "\n",
        "[PyTorch 101, Part 1: Understanding Graphs, Automatic Differentiation and Autograd](https://blog.paperspace.com/pytorch-101-understanding-graphs-and-automatic-differentiation/)\n",
        "\n",
        "В центре большинства современных приемов машинного обучения лежит расчет градиентов. Это в особенности касается нейронных сетей, где для обновления весовых коэффициентов используется алгоритм обратного распространения\n",
        "\n",
        "Autograd предоставляет классы и функции, реализующие автоматическое дифференцирование произвольных скалярных функций. Это требует минимальных изменений в существующем коде - нужно только объявить Tensor, для которого должны вычисляться градиенты, с атрибутом `requires_grad=True`"
      ]
    },
    {
      "cell_type": "code",
      "source": [
        "import torch"
      ],
      "metadata": {
        "id": "q1TDxt6qamOm"
      },
      "execution_count": 1,
      "outputs": []
    },
    {
      "cell_type": "code",
      "execution_count": 2,
      "metadata": {
        "colab": {
          "base_uri": "https://localhost:8080/"
        },
        "id": "JcdJCnP5HbSr",
        "outputId": "49c2401a-98ab-4a60-d534-1105a6aed240"
      },
      "outputs": [
        {
          "output_type": "stream",
          "name": "stdout",
          "text": [
            "tensor([[1., 1.],\n",
            "        [1., 1.]], requires_grad=True)\n"
          ]
        }
      ],
      "source": [
        "x = torch.ones(2, 2, requires_grad=True)\n",
        "print(x)"
      ]
    },
    {
      "cell_type": "code",
      "source": [
        "x.grad == None"
      ],
      "metadata": {
        "colab": {
          "base_uri": "https://localhost:8080/"
        },
        "id": "JbgJ9x8CcFJ6",
        "outputId": "3c751d58-c5fc-4553-c892-2c74a131a8f7"
      },
      "execution_count": 3,
      "outputs": [
        {
          "output_type": "execute_result",
          "data": {
            "text/plain": [
              "True"
            ]
          },
          "metadata": {},
          "execution_count": 3
        }
      ]
    },
    {
      "cell_type": "code",
      "source": [
        "x.grad_fn == None"
      ],
      "metadata": {
        "colab": {
          "base_uri": "https://localhost:8080/"
        },
        "id": "b_i-OcPLb-Rv",
        "outputId": "8c5957ce-8deb-47fe-eb97-9325816a422c"
      },
      "execution_count": 4,
      "outputs": [
        {
          "output_type": "execute_result",
          "data": {
            "text/plain": [
              "True"
            ]
          },
          "metadata": {},
          "execution_count": 4
        }
      ]
    },
    {
      "cell_type": "markdown",
      "metadata": {
        "id": "U0VM8aIlHbSr"
      },
      "source": [
        "После применения какой-либо операции к тензору атрибуту `grad_fn`  присваивается объект `Function`, который добавляется в граф вычислений для обратного распространения градиента.\n",
        "\n"
      ]
    },
    {
      "cell_type": "code",
      "execution_count": 5,
      "metadata": {
        "colab": {
          "base_uri": "https://localhost:8080/"
        },
        "id": "ZIcFl4AWHbSs",
        "outputId": "08016a23-8ade-478b-a0b9-9531c5eb5c9c"
      },
      "outputs": [
        {
          "output_type": "stream",
          "name": "stdout",
          "text": [
            "tensor([[3., 3.],\n",
            "        [3., 3.]], grad_fn=<AddBackward0>)\n"
          ]
        }
      ],
      "source": [
        "y = x + 2\n",
        "print(y)"
      ]
    },
    {
      "cell_type": "code",
      "execution_count": 6,
      "metadata": {
        "colab": {
          "base_uri": "https://localhost:8080/"
        },
        "id": "of4Eh18aHbSs",
        "outputId": "86c88fc3-5e36-4ac0-fe4a-e6e9422a4c70"
      },
      "outputs": [
        {
          "output_type": "stream",
          "name": "stdout",
          "text": [
            "tensor([[27., 27.],\n",
            "        [27., 27.]], grad_fn=<MulBackward0>) tensor(27., grad_fn=<MeanBackward0>)\n"
          ]
        }
      ],
      "source": [
        "z = y * y * 3\n",
        "out = z.mean()\n",
        "\n",
        "print(z, out)"
      ]
    },
    {
      "cell_type": "markdown",
      "metadata": {
        "id": "39gLEvmAHbSt"
      },
      "source": [
        "`.grad_fn` может менять \"на лету\""
      ]
    },
    {
      "cell_type": "code",
      "execution_count": 7,
      "metadata": {
        "colab": {
          "base_uri": "https://localhost:8080/"
        },
        "id": "va5zd2xMHbSt",
        "outputId": "6d40b575-71e2-444a-c356-18abddaa383d"
      },
      "outputs": [
        {
          "output_type": "stream",
          "name": "stdout",
          "text": [
            "False\n",
            "True\n",
            "<SumBackward0 object at 0x7998cf7766b0>\n"
          ]
        }
      ],
      "source": [
        "a = torch.randn(2, 2)\n",
        "a = ((a * 3) / (a - 1))\n",
        "print(a.requires_grad)\n",
        "a.requires_grad_(True)\n",
        "print(a.requires_grad)\n",
        "b = (a * a).sum()\n",
        "print(b.grad_fn)"
      ]
    },
    {
      "cell_type": "markdown",
      "metadata": {
        "id": "lZcXFmziHbSt"
      },
      "source": [
        "Метод `backward` корневого узла графа вычислений запускает процедуру вычисления градиентов в листовых (is_leaf) узлах, имеющих атрибут requires_grad. Граф дифференцируется по цепочке (chain rule)"
      ]
    },
    {
      "cell_type": "code",
      "execution_count": 8,
      "metadata": {
        "id": "yyNpdWrzHbSu"
      },
      "outputs": [],
      "source": [
        "out.backward()"
      ]
    },
    {
      "cell_type": "code",
      "execution_count": 9,
      "metadata": {
        "colab": {
          "base_uri": "https://localhost:8080/"
        },
        "id": "bSpM1ECkHbSu",
        "outputId": "67a757d9-b23e-4b93-e1f1-a28fe03cfdd6"
      },
      "outputs": [
        {
          "output_type": "stream",
          "name": "stdout",
          "text": [
            "tensor([[4.5000, 4.5000],\n",
            "        [4.5000, 4.5000]])\n"
          ]
        }
      ],
      "source": [
        "print(x.grad)"
      ]
    },
    {
      "cell_type": "markdown",
      "source": [
        "По умолчанию промежуточные (не листовые) узлы графа не хранят прошедшие через них градиентов."
      ],
      "metadata": {
        "id": "LpYFZQuze1u-"
      }
    },
    {
      "cell_type": "code",
      "source": [
        "print(y.grad)"
      ],
      "metadata": {
        "colab": {
          "base_uri": "https://localhost:8080/"
        },
        "id": "AEcfJluqe1eQ",
        "outputId": "d9192cb7-aa09-43ed-a8d1-c97458858916"
      },
      "execution_count": 10,
      "outputs": [
        {
          "output_type": "stream",
          "name": "stdout",
          "text": [
            "None\n"
          ]
        },
        {
          "output_type": "stream",
          "name": "stderr",
          "text": [
            "<ipython-input-10-b81046718426>:1: UserWarning: The .grad attribute of a Tensor that is not a leaf Tensor is being accessed. Its .grad attribute won't be populated during autograd.backward(). If you indeed want the .grad field to be populated for a non-leaf Tensor, use .retain_grad() on the non-leaf Tensor. If you access the non-leaf Tensor by mistake, make sure you access the leaf Tensor instead. See github.com/pytorch/pytorch/pull/30531 for more informations. (Triggered internally at aten/src/ATen/core/TensorBody.h:489.)\n",
            "  print(y.grad)\n"
          ]
        }
      ]
    },
    {
      "cell_type": "markdown",
      "source": [
        "Эту ситуацию можно изменить, вызвав для для конкретного узла метод retain_grad"
      ],
      "metadata": {
        "id": "6KEkSd3oe7g_"
      }
    },
    {
      "cell_type": "code",
      "source": [
        "x = torch.ones(2, 2, requires_grad=True)\n",
        "y = x + 2\n",
        "y.retain_grad()\n",
        "z = y * y * 3\n",
        "out = z.mean()\n",
        "out.backward()"
      ],
      "metadata": {
        "id": "19q2HQX8e7JW"
      },
      "execution_count": 11,
      "outputs": []
    },
    {
      "cell_type": "code",
      "source": [
        "print(x.grad)"
      ],
      "metadata": {
        "colab": {
          "base_uri": "https://localhost:8080/"
        },
        "id": "LXSMmRATfHVO",
        "outputId": "51d5acb3-68a4-43f0-af81-b5ce3c745ea3"
      },
      "execution_count": 12,
      "outputs": [
        {
          "output_type": "stream",
          "name": "stdout",
          "text": [
            "tensor([[4.5000, 4.5000],\n",
            "        [4.5000, 4.5000]])\n"
          ]
        }
      ]
    },
    {
      "cell_type": "code",
      "source": [
        "print(y.grad)"
      ],
      "metadata": {
        "colab": {
          "base_uri": "https://localhost:8080/"
        },
        "id": "S9KDgTYLfEib",
        "outputId": "07a9c87e-f288-4bcb-f71c-5c5029c7b755"
      },
      "execution_count": 13,
      "outputs": [
        {
          "output_type": "stream",
          "name": "stdout",
          "text": [
            "tensor([[4.5000, 4.5000],\n",
            "        [4.5000, 4.5000]])\n"
          ]
        }
      ]
    },
    {
      "cell_type": "markdown",
      "metadata": {
        "id": "CD3WUBM3HbSw"
      },
      "source": [
        "Иногда с листовыми узлами необходимо проделать действия, не меняя при этом графа. Такие действия проводят, используя контекстный менедежр `no_grad`, которое блокирует создание новых узлов графа"
      ]
    },
    {
      "cell_type": "code",
      "execution_count": 14,
      "metadata": {
        "colab": {
          "base_uri": "https://localhost:8080/"
        },
        "id": "ueu6nMZQHbSw",
        "outputId": "a0f903ae-aa97-4d2c-d78d-582b9036b5dc"
      },
      "outputs": [
        {
          "output_type": "stream",
          "name": "stdout",
          "text": [
            "True\n",
            "True\n",
            "False\n"
          ]
        }
      ],
      "source": [
        "print(x.requires_grad)\n",
        "print((x ** 2).requires_grad)\n",
        "\n",
        "with torch.no_grad(): # потом можно включить вручную torch.enable_grad()\n",
        "    print((x ** 2).requires_grad)\n"
      ]
    },
    {
      "cell_type": "markdown",
      "source": [
        "### Micrograd"
      ],
      "metadata": {
        "id": "-wyL8Sn9apWv"
      }
    },
    {
      "cell_type": "markdown",
      "source": [
        "[micrograd](https://github.com/karpathy/micrograd)"
      ],
      "metadata": {
        "id": "Mqba-3uHj2xE"
      }
    },
    {
      "cell_type": "code",
      "source": [
        "!git clone https://github.com/karpathy/micrograd.git"
      ],
      "metadata": {
        "id": "YdrSm6g6M4DE",
        "colab": {
          "base_uri": "https://localhost:8080/"
        },
        "outputId": "843768c8-fc3f-42b4-fe09-e19e3fd66899"
      },
      "execution_count": 15,
      "outputs": [
        {
          "output_type": "stream",
          "name": "stdout",
          "text": [
            "Cloning into 'micrograd'...\n",
            "remote: Enumerating objects: 98, done.\u001b[K\n",
            "remote: Counting objects: 100% (60/60), done.\u001b[K\n",
            "remote: Compressing objects: 100% (22/22), done.\u001b[K\n",
            "remote: Total 98 (delta 39), reused 38 (delta 38), pack-reused 38 (from 1)\u001b[K\n",
            "Receiving objects: 100% (98/98), 258.88 KiB | 1.18 MiB/s, done.\n",
            "Resolving deltas: 100% (44/44), done.\n"
          ]
        }
      ]
    },
    {
      "cell_type": "code",
      "source": [
        "%cd micrograd"
      ],
      "metadata": {
        "colab": {
          "base_uri": "https://localhost:8080/"
        },
        "id": "3QXCWWD3iuRu",
        "outputId": "af4f614d-e9b2-4558-84b9-2e9e7fe760d3"
      },
      "execution_count": 16,
      "outputs": [
        {
          "output_type": "stream",
          "name": "stdout",
          "text": [
            "/content/micrograd\n"
          ]
        }
      ]
    },
    {
      "cell_type": "code",
      "source": [
        "import random\n",
        "import numpy as np\n",
        "\n",
        "import matplotlib.pyplot as plt\n",
        "%matplotlib inline\n",
        "\n",
        "from graphviz import Digraph\n",
        "\n",
        "from micrograd.engine import Value\n",
        "from micrograd.nn import Neuron, Layer, MLP, Module\n",
        "\n",
        "from sklearn.datasets import make_moons, make_blobs"
      ],
      "metadata": {
        "id": "OAdhBb7V7G1T"
      },
      "execution_count": 18,
      "outputs": []
    },
    {
      "cell_type": "code",
      "source": [
        "np.random.seed(42)\n",
        "random.seed(42)"
      ],
      "metadata": {
        "id": "LoaIQx1y7G4g"
      },
      "execution_count": 19,
      "outputs": []
    },
    {
      "cell_type": "markdown",
      "source": [
        "#### Пример построения графа вычислений"
      ],
      "metadata": {
        "id": "0Mct2DfemyYb"
      }
    },
    {
      "cell_type": "code",
      "source": [
        "def trace(root):\n",
        "    nodes, edges = set(), set()\n",
        "    def build(v):\n",
        "        if v not in nodes:\n",
        "            nodes.add(v)\n",
        "            for child in v._prev:\n",
        "                edges.add((child, v))\n",
        "                build(child)\n",
        "    build(root)\n",
        "    return nodes, edges\n",
        "\n",
        "def draw_dot(root, format='svg', rankdir='LR'):\n",
        "    \"\"\"\n",
        "    format: png | svg | ...\n",
        "    rankdir: TB (top to bottom graph) | LR (left to right)\n",
        "    \"\"\"\n",
        "    assert rankdir in ['LR', 'TB']\n",
        "    nodes, edges = trace(root)\n",
        "    dot = Digraph(format=format, graph_attr={'rankdir': rankdir}) #, node_attr={'rankdir': 'TB'})\n",
        "\n",
        "    for n in nodes:\n",
        "        dot.node(name=str(id(n)), label = \"{ data %.4f | grad %.4f }\" % (n.data, n.grad), shape='record')\n",
        "        if n._op:\n",
        "            dot.node(name=str(id(n)) + n._op, label=n._op)\n",
        "            dot.edge(str(id(n)) + n._op, str(id(n)))\n",
        "\n",
        "    for n1, n2 in edges:\n",
        "        dot.edge(str(id(n1)), str(id(n2)) + n2._op)\n",
        "\n",
        "    return dot"
      ],
      "metadata": {
        "id": "9wJYCA--mdXl"
      },
      "execution_count": 20,
      "outputs": []
    },
    {
      "cell_type": "code",
      "source": [
        "Value??"
      ],
      "metadata": {
        "id": "EDeU_JVImqTv"
      },
      "execution_count": 21,
      "outputs": []
    },
    {
      "cell_type": "markdown",
      "source": [
        "Для отслеживания, как считаются градиенты в примере ниже, временно \"пропатчим\" функции `__add__`, `__mul__`, `relu` и `backward` из класса `Value` так, чтобы видеть, в логах как применяются операции"
      ],
      "metadata": {
        "id": "5eRoT_-QIXV1"
      }
    },
    {
      "cell_type": "code",
      "source": [
        "old_relu = Value.relu\n",
        "old_backward = Value.backward\n",
        "old_add = Value.__add__\n",
        "old_mul = Value.__mul__\n",
        "\n",
        "def new_relu(self):\n",
        "    out = Value(0 if self.data < 0 else self.data, (self,), 'ReLU')\n",
        "\n",
        "    def _backward():\n",
        "        self.grad += (out.data > 0) * out.grad\n",
        "        print(f\"\"\"\n",
        "          Считаем производную relu:\n",
        "          входной градиент = {out.grad}\n",
        "          локальный градиент = {int(out.data > 0)}\n",
        "          выходной градиент = {out.grad} * {int(out.data > 0)} = {self.grad}\n",
        "          \"\"\"\n",
        "        )\n",
        "    out._backward = _backward\n",
        "\n",
        "    return out\n",
        "\n",
        "def new_mul(self, other):\n",
        "    other = other if isinstance(other, Value) else Value(other)\n",
        "    out = Value(self.data * other.data, (self, other), '*')\n",
        "\n",
        "    def _backward():\n",
        "        self.grad += other.data * out.grad\n",
        "        other.grad += self.data * out.grad\n",
        "\n",
        "        print(f\"\"\"\n",
        "          Считаем производную умножения.\n",
        "          Для умножения локальный градиент по отношению к какому-либо из входов будет равен значению оставшегося входа:\n",
        "          входной градиент = {out.grad}\n",
        "          локальный градиент для первого множителя = {other.data}\n",
        "          локальный градиент для второго множителя = {self.data}\n",
        "          выходной градиент для первого множителя = {out.grad} * {other.data} = {self.grad}\n",
        "          выходной градиент для второго множителя = {out.grad} * {self.data} = {other.grad}\n",
        "          \"\"\"\n",
        "        )\n",
        "    out._backward = _backward\n",
        "\n",
        "    return out\n",
        "\n",
        "\n",
        "def new_add(self, other):\n",
        "    other = other if isinstance(other, Value) else Value(other)\n",
        "    out = Value(self.data + other.data, (self, other), '+')\n",
        "\n",
        "    def _backward():\n",
        "        self.grad += out.grad\n",
        "        other.grad += out.grad\n",
        "\n",
        "        print(f\"\"\"\n",
        "          Считаем производную сложения.\n",
        "          Относительно каждого из входов локальный градиент в вершине суммирования будет равен  1.\n",
        "          входной градиент = {out.grad}\n",
        "          локальный градиент для первого слагаемого = 1\n",
        "          локальный градиент для второго слагаемого = 1\n",
        "          выходной градиент для первого слагаемого = 1 * {out.grad}\n",
        "          выходной градиент для второго слагаемого = 1 * {out.grad}\n",
        "          \"\"\"\n",
        "        )\n",
        "    out._backward = _backward\n",
        "\n",
        "    return out\n",
        "\n",
        "def new_backward(self):\n",
        "\n",
        "    # topological order all of the children in the graph\n",
        "    topo = []\n",
        "    visited = set()\n",
        "    def build_topo(v):\n",
        "        if v not in visited:\n",
        "            visited.add(v)\n",
        "            for child in v._prev:\n",
        "                build_topo(child)\n",
        "            topo.append(v)\n",
        "    build_topo(self)\n",
        "\n",
        "    # go one variable at a time and apply the chain rule to get its gradient\n",
        "    self.grad = 1\n",
        "    print(\"\"\"\n",
        "      Начинаем обратное распространение.\n",
        "\n",
        "      На каждом шаге метода обратного распространения будем считать выходной градиент как входной * локальный.\n",
        "      Входной градиент - градиент с прошлого шага метода обратного распространения.\n",
        "      Локальный градиент - значение производной элементарной функции на данном шаге.\n",
        "      Входной градиент на первом шаге = 1 (так как df/df = 1).\n",
        "      \"\"\"\n",
        "    )\n",
        "    for v in reversed(topo):\n",
        "        v._backward()"
      ],
      "metadata": {
        "id": "Y26ugyrQIujv"
      },
      "execution_count": 22,
      "outputs": []
    },
    {
      "cell_type": "code",
      "source": [
        "Value.relu = new_relu\n",
        "Value.backward = new_backward\n",
        "Value.__add__ = new_add\n",
        "Value.__mul__ = new_mul"
      ],
      "metadata": {
        "id": "8FolW8ZEItGl"
      },
      "execution_count": 23,
      "outputs": []
    },
    {
      "cell_type": "code",
      "source": [
        "x = Value(1.0)\n",
        "y = (x * 2 + 1).relu()\n",
        "y.backward()\n",
        "draw_dot(y)"
      ],
      "metadata": {
        "colab": {
          "base_uri": "https://localhost:8080/",
          "height": 748
        },
        "id": "qxvDyeJnmdVU",
        "outputId": "80ea37fc-7308-4b16-cc0a-c54130a115dd"
      },
      "execution_count": 24,
      "outputs": [
        {
          "output_type": "stream",
          "name": "stdout",
          "text": [
            "\n",
            "      Начинаем обратное распространение.\n",
            "      \n",
            "      На каждом шаге метода обратного распространения будем считать выходной градиент как входной * локальный.\n",
            "      Входной градиент - градиент с прошлого шага метода обратного распространения.\n",
            "      Локальный градиент - значение производной элементарной функции на данном шаге.\n",
            "      Входной градиент на первом шаге = 1 (так как df/df = 1).\n",
            "      \n",
            "\n",
            "          Считаем производную relu: \n",
            "          входной градиент = 1\n",
            "          локальный градиент = 1\n",
            "          выходной градиент = 1 * 1 = 1\n",
            "          \n",
            "\n",
            "          Считаем производную сложения.\n",
            "          Относительно каждого из входов локальный градиент в вершине суммирования будет равен  1.\n",
            "          входной градиент = 1\n",
            "          локальный градиент для первого слагаемого = 1\n",
            "          локальный градиент для второго слагаемого = 1\n",
            "          выходной градиент для первого слагаемого = 1 * 1\n",
            "          выходной градиент для второго слагаемого = 1 * 1\n",
            "          \n",
            "\n",
            "          Считаем производную умножения.\n",
            "          Для умножения локальный градиент по отношению к какому-либо из входов будет равен значению оставшегося входа:\n",
            "          входной градиент = 1\n",
            "          локальный градиент для первого множителя = 2\n",
            "          локальный градиент для второго множителя = 1.0\n",
            "          выходной градиент для первого множителя = 1 * 2 = 2\n",
            "          выходной градиент для второго множителя = 1 * 1.0 = 1.0\n",
            "          \n"
          ]
        },
        {
          "output_type": "execute_result",
          "data": {
            "image/svg+xml": "<?xml version=\"1.0\" encoding=\"UTF-8\" standalone=\"no\"?>\n<!DOCTYPE svg PUBLIC \"-//W3C//DTD SVG 1.1//EN\"\n \"http://www.w3.org/Graphics/SVG/1.1/DTD/svg11.dtd\">\n<!-- Generated by graphviz version 2.43.0 (0)\n -->\n<!-- Title: %3 Pages: 1 -->\n<svg width=\"1045pt\" height=\"128pt\"\n viewBox=\"0.00 0.00 1044.99 128.00\" xmlns=\"http://www.w3.org/2000/svg\" xmlns:xlink=\"http://www.w3.org/1999/xlink\">\n<g id=\"graph0\" class=\"graph\" transform=\"scale(1 1) rotate(0) translate(4 124)\">\n<title>%3</title>\n<polygon fill=\"white\" stroke=\"transparent\" points=\"-4,4 -4,-124 1040.99,-124 1040.99,4 -4,4\"/>\n<!-- 133697222993440 -->\n<g id=\"node1\" class=\"node\">\n<title>133697222993440</title>\n<polygon fill=\"none\" stroke=\"black\" points=\"576,-27.5 576,-63.5 738,-63.5 738,-27.5 576,-27.5\"/>\n<text text-anchor=\"middle\" x=\"616\" y=\"-41.8\" font-family=\"Times,serif\" font-size=\"14.00\">data 3.0000</text>\n<polyline fill=\"none\" stroke=\"black\" points=\"656,-27.5 656,-63.5 \"/>\n<text text-anchor=\"middle\" x=\"697\" y=\"-41.8\" font-family=\"Times,serif\" font-size=\"14.00\">grad 1.0000</text>\n</g>\n<!-- 133697222984752ReLU -->\n<g id=\"node4\" class=\"node\">\n<title>133697222984752ReLU</title>\n<ellipse fill=\"none\" stroke=\"black\" cx=\"806.5\" cy=\"-45.5\" rx=\"32.49\" ry=\"18\"/>\n<text text-anchor=\"middle\" x=\"806.5\" y=\"-41.8\" font-family=\"Times,serif\" font-size=\"14.00\">ReLU</text>\n</g>\n<!-- 133697222993440&#45;&gt;133697222984752ReLU -->\n<g id=\"edge7\" class=\"edge\">\n<title>133697222993440&#45;&gt;133697222984752ReLU</title>\n<path fill=\"none\" stroke=\"black\" d=\"M738.22,-45.5C746.96,-45.5 755.58,-45.5 763.58,-45.5\"/>\n<polygon fill=\"black\" stroke=\"black\" points=\"763.69,-49 773.69,-45.5 763.69,-42 763.69,-49\"/>\n</g>\n<!-- 133697222993440+ -->\n<g id=\"node2\" class=\"node\">\n<title>133697222993440+</title>\n<ellipse fill=\"none\" stroke=\"black\" cx=\"513\" cy=\"-45.5\" rx=\"27\" ry=\"18\"/>\n<text text-anchor=\"middle\" x=\"513\" y=\"-41.8\" font-family=\"Times,serif\" font-size=\"14.00\">+</text>\n</g>\n<!-- 133697222993440+&#45;&gt;133697222993440 -->\n<g id=\"edge1\" class=\"edge\">\n<title>133697222993440+&#45;&gt;133697222993440</title>\n<path fill=\"none\" stroke=\"black\" d=\"M540.04,-45.5C547.63,-45.5 556.38,-45.5 565.6,-45.5\"/>\n<polygon fill=\"black\" stroke=\"black\" points=\"565.76,-49 575.76,-45.5 565.76,-42 565.76,-49\"/>\n</g>\n<!-- 133697222984752 -->\n<g id=\"node3\" class=\"node\">\n<title>133697222984752</title>\n<polygon fill=\"none\" stroke=\"black\" points=\"874.99,-27.5 874.99,-63.5 1036.99,-63.5 1036.99,-27.5 874.99,-27.5\"/>\n<text text-anchor=\"middle\" x=\"914.99\" y=\"-41.8\" font-family=\"Times,serif\" font-size=\"14.00\">data 3.0000</text>\n<polyline fill=\"none\" stroke=\"black\" points=\"954.99,-27.5 954.99,-63.5 \"/>\n<text text-anchor=\"middle\" x=\"995.99\" y=\"-41.8\" font-family=\"Times,serif\" font-size=\"14.00\">grad 1.0000</text>\n</g>\n<!-- 133697222984752ReLU&#45;&gt;133697222984752 -->\n<g id=\"edge2\" class=\"edge\">\n<title>133697222984752ReLU&#45;&gt;133697222984752</title>\n<path fill=\"none\" stroke=\"black\" d=\"M839.14,-45.5C846.97,-45.5 855.76,-45.5 864.9,-45.5\"/>\n<polygon fill=\"black\" stroke=\"black\" points=\"864.92,-49 874.92,-45.5 864.92,-42 864.92,-49\"/>\n</g>\n<!-- 133697222996032 -->\n<g id=\"node5\" class=\"node\">\n<title>133697222996032</title>\n<polygon fill=\"none\" stroke=\"black\" points=\"288,-55.5 288,-91.5 450,-91.5 450,-55.5 288,-55.5\"/>\n<text text-anchor=\"middle\" x=\"328\" y=\"-69.8\" font-family=\"Times,serif\" font-size=\"14.00\">data 2.0000</text>\n<polyline fill=\"none\" stroke=\"black\" points=\"368,-55.5 368,-91.5 \"/>\n<text text-anchor=\"middle\" x=\"409\" y=\"-69.8\" font-family=\"Times,serif\" font-size=\"14.00\">grad 1.0000</text>\n</g>\n<!-- 133697222996032&#45;&gt;133697222993440+ -->\n<g id=\"edge8\" class=\"edge\">\n<title>133697222996032&#45;&gt;133697222993440+</title>\n<path fill=\"none\" stroke=\"black\" d=\"M450.13,-57.7C459.51,-55.85 468.67,-54.04 476.94,-52.41\"/>\n<polygon fill=\"black\" stroke=\"black\" points=\"477.77,-55.82 486.9,-50.45 476.42,-48.95 477.77,-55.82\"/>\n</g>\n<!-- 133697222996032* -->\n<g id=\"node6\" class=\"node\">\n<title>133697222996032*</title>\n<ellipse fill=\"none\" stroke=\"black\" cx=\"225\" cy=\"-73.5\" rx=\"27\" ry=\"18\"/>\n<text text-anchor=\"middle\" x=\"225\" y=\"-69.8\" font-family=\"Times,serif\" font-size=\"14.00\">*</text>\n</g>\n<!-- 133697222996032*&#45;&gt;133697222996032 -->\n<g id=\"edge3\" class=\"edge\">\n<title>133697222996032*&#45;&gt;133697222996032</title>\n<path fill=\"none\" stroke=\"black\" d=\"M252.04,-73.5C259.63,-73.5 268.38,-73.5 277.6,-73.5\"/>\n<polygon fill=\"black\" stroke=\"black\" points=\"277.76,-77 287.76,-73.5 277.76,-70 277.76,-77\"/>\n</g>\n<!-- 133697222996608 -->\n<g id=\"node7\" class=\"node\">\n<title>133697222996608</title>\n<polygon fill=\"none\" stroke=\"black\" points=\"0,-83.5 0,-119.5 162,-119.5 162,-83.5 0,-83.5\"/>\n<text text-anchor=\"middle\" x=\"40\" y=\"-97.8\" font-family=\"Times,serif\" font-size=\"14.00\">data 2.0000</text>\n<polyline fill=\"none\" stroke=\"black\" points=\"80,-83.5 80,-119.5 \"/>\n<text text-anchor=\"middle\" x=\"121\" y=\"-97.8\" font-family=\"Times,serif\" font-size=\"14.00\">grad 1.0000</text>\n</g>\n<!-- 133697222996608&#45;&gt;133697222996032* -->\n<g id=\"edge6\" class=\"edge\">\n<title>133697222996608&#45;&gt;133697222996032*</title>\n<path fill=\"none\" stroke=\"black\" d=\"M162.13,-85.7C171.51,-83.85 180.67,-82.04 188.94,-80.41\"/>\n<polygon fill=\"black\" stroke=\"black\" points=\"189.77,-83.82 198.9,-78.45 188.42,-76.95 189.77,-83.82\"/>\n</g>\n<!-- 133697222995264 -->\n<g id=\"node8\" class=\"node\">\n<title>133697222995264</title>\n<polygon fill=\"none\" stroke=\"black\" points=\"0,-28.5 0,-64.5 162,-64.5 162,-28.5 0,-28.5\"/>\n<text text-anchor=\"middle\" x=\"40\" y=\"-42.8\" font-family=\"Times,serif\" font-size=\"14.00\">data 1.0000</text>\n<polyline fill=\"none\" stroke=\"black\" points=\"80,-28.5 80,-64.5 \"/>\n<text text-anchor=\"middle\" x=\"121\" y=\"-42.8\" font-family=\"Times,serif\" font-size=\"14.00\">grad 2.0000</text>\n</g>\n<!-- 133697222995264&#45;&gt;133697222996032* -->\n<g id=\"edge5\" class=\"edge\">\n<title>133697222995264&#45;&gt;133697222996032*</title>\n<path fill=\"none\" stroke=\"black\" d=\"M162.13,-61.74C171.51,-63.52 180.67,-65.26 188.94,-66.83\"/>\n<polygon fill=\"black\" stroke=\"black\" points=\"188.43,-70.3 198.9,-68.73 189.73,-63.42 188.43,-70.3\"/>\n</g>\n<!-- 133697222996416 -->\n<g id=\"node9\" class=\"node\">\n<title>133697222996416</title>\n<polygon fill=\"none\" stroke=\"black\" points=\"288,-0.5 288,-36.5 450,-36.5 450,-0.5 288,-0.5\"/>\n<text text-anchor=\"middle\" x=\"328\" y=\"-14.8\" font-family=\"Times,serif\" font-size=\"14.00\">data 1.0000</text>\n<polyline fill=\"none\" stroke=\"black\" points=\"368,-0.5 368,-36.5 \"/>\n<text text-anchor=\"middle\" x=\"409\" y=\"-14.8\" font-family=\"Times,serif\" font-size=\"14.00\">grad 1.0000</text>\n</g>\n<!-- 133697222996416&#45;&gt;133697222993440+ -->\n<g id=\"edge4\" class=\"edge\">\n<title>133697222996416&#45;&gt;133697222993440+</title>\n<path fill=\"none\" stroke=\"black\" d=\"M450.13,-33.74C459.51,-35.52 468.67,-37.26 476.94,-38.83\"/>\n<polygon fill=\"black\" stroke=\"black\" points=\"476.43,-42.3 486.9,-40.73 477.73,-35.42 476.43,-42.3\"/>\n</g>\n</g>\n</svg>\n",
            "text/plain": [
              "<graphviz.graphs.Digraph at 0x7998cf776e90>"
            ]
          },
          "metadata": {},
          "execution_count": 24
        }
      ]
    },
    {
      "cell_type": "markdown",
      "source": [
        "Вернем старые реализации функций обратно, чтобы при обучении модели не утонуть в логах"
      ],
      "metadata": {
        "id": "vUbNUKBfJtJs"
      }
    },
    {
      "cell_type": "code",
      "source": [
        "Value.relu = old_relu\n",
        "Value.backward = old_backward\n",
        "Value.__add__ = old_add\n",
        "Value.__mul__ = old_mul"
      ],
      "metadata": {
        "id": "APZHmn_1JyhR"
      },
      "execution_count": 25,
      "outputs": []
    },
    {
      "cell_type": "code",
      "source": [
        "Neuron??"
      ],
      "metadata": {
        "id": "M_Mb3eVnmq_W"
      },
      "execution_count": 23,
      "outputs": []
    },
    {
      "cell_type": "code",
      "source": [
        "random.seed(1337)\n",
        "n = Neuron(2)\n",
        "x = [Value(1.0), Value(-2.0)]\n",
        "y = n(x)\n",
        "y.backward()\n",
        "\n",
        "dot = draw_dot(y)\n",
        "dot"
      ],
      "metadata": {
        "colab": {
          "base_uri": "https://localhost:8080/",
          "height": 357
        },
        "id": "lEw9JEWkmdSv",
        "outputId": "ef4a2c98-bbed-4b53-83d2-10add880869e"
      },
      "execution_count": 26,
      "outputs": [
        {
          "output_type": "execute_result",
          "data": {
            "image/svg+xml": "<?xml version=\"1.0\" encoding=\"UTF-8\" standalone=\"no\"?>\n<!DOCTYPE svg PUBLIC \"-//W3C//DTD SVG 1.1//EN\"\n \"http://www.w3.org/Graphics/SVG/1.1/DTD/svg11.dtd\">\n<!-- Generated by graphviz version 2.43.0 (0)\n -->\n<!-- Title: %3 Pages: 1 -->\n<svg width=\"1343pt\" height=\"237pt\"\n viewBox=\"0.00 0.00 1342.99 237.00\" xmlns=\"http://www.w3.org/2000/svg\" xmlns:xlink=\"http://www.w3.org/1999/xlink\">\n<g id=\"graph0\" class=\"graph\" transform=\"scale(1 1) rotate(0) translate(4 233)\">\n<title>%3</title>\n<polygon fill=\"white\" stroke=\"transparent\" points=\"-4,4 -4,-233 1338.99,-233 1338.99,4 -4,4\"/>\n<!-- 133696956211808 -->\n<g id=\"node1\" class=\"node\">\n<title>133696956211808</title>\n<polygon fill=\"none\" stroke=\"black\" points=\"874,-109.5 874,-145.5 1036,-145.5 1036,-109.5 874,-109.5\"/>\n<text text-anchor=\"middle\" x=\"914\" y=\"-123.8\" font-family=\"Times,serif\" font-size=\"14.00\">data 0.1024</text>\n<polyline fill=\"none\" stroke=\"black\" points=\"954,-109.5 954,-145.5 \"/>\n<text text-anchor=\"middle\" x=\"995\" y=\"-123.8\" font-family=\"Times,serif\" font-size=\"14.00\">grad 1.0000</text>\n</g>\n<!-- 133696956212384ReLU -->\n<g id=\"node5\" class=\"node\">\n<title>133696956212384ReLU</title>\n<ellipse fill=\"none\" stroke=\"black\" cx=\"1104.5\" cy=\"-127.5\" rx=\"32.49\" ry=\"18\"/>\n<text text-anchor=\"middle\" x=\"1104.5\" y=\"-123.8\" font-family=\"Times,serif\" font-size=\"14.00\">ReLU</text>\n</g>\n<!-- 133696956211808&#45;&gt;133696956212384ReLU -->\n<g id=\"edge13\" class=\"edge\">\n<title>133696956211808&#45;&gt;133696956212384ReLU</title>\n<path fill=\"none\" stroke=\"black\" d=\"M1036.22,-127.5C1044.96,-127.5 1053.58,-127.5 1061.58,-127.5\"/>\n<polygon fill=\"black\" stroke=\"black\" points=\"1061.69,-131 1071.69,-127.5 1061.69,-124 1061.69,-131\"/>\n</g>\n<!-- 133696956211808+ -->\n<g id=\"node2\" class=\"node\">\n<title>133696956211808+</title>\n<ellipse fill=\"none\" stroke=\"black\" cx=\"811\" cy=\"-127.5\" rx=\"27\" ry=\"18\"/>\n<text text-anchor=\"middle\" x=\"811\" y=\"-123.8\" font-family=\"Times,serif\" font-size=\"14.00\">+</text>\n</g>\n<!-- 133696956211808+&#45;&gt;133696956211808 -->\n<g id=\"edge1\" class=\"edge\">\n<title>133696956211808+&#45;&gt;133696956211808</title>\n<path fill=\"none\" stroke=\"black\" d=\"M838.04,-127.5C845.63,-127.5 854.38,-127.5 863.6,-127.5\"/>\n<polygon fill=\"black\" stroke=\"black\" points=\"863.76,-131 873.76,-127.5 863.76,-124 863.76,-131\"/>\n</g>\n<!-- 133696956214928 -->\n<g id=\"node3\" class=\"node\">\n<title>133696956214928</title>\n<polygon fill=\"none\" stroke=\"black\" points=\"288.5,-192.5 288.5,-228.5 454.5,-228.5 454.5,-192.5 288.5,-192.5\"/>\n<text text-anchor=\"middle\" x=\"328.5\" y=\"-206.8\" font-family=\"Times,serif\" font-size=\"14.00\">data 0.0665</text>\n<polyline fill=\"none\" stroke=\"black\" points=\"368.5,-192.5 368.5,-228.5 \"/>\n<text text-anchor=\"middle\" x=\"411.5\" y=\"-206.8\" font-family=\"Times,serif\" font-size=\"14.00\">grad &#45;2.0000</text>\n</g>\n<!-- 133696956208352* -->\n<g id=\"node11\" class=\"node\">\n<title>133696956208352*</title>\n<ellipse fill=\"none\" stroke=\"black\" cx=\"518\" cy=\"-155.5\" rx=\"27\" ry=\"18\"/>\n<text text-anchor=\"middle\" x=\"518\" y=\"-151.8\" font-family=\"Times,serif\" font-size=\"14.00\">*</text>\n</g>\n<!-- 133696956214928&#45;&gt;133696956208352* -->\n<g id=\"edge10\" class=\"edge\">\n<title>133696956214928&#45;&gt;133696956208352*</title>\n<path fill=\"none\" stroke=\"black\" d=\"M430.48,-192.4C438.76,-189.56 447.13,-186.55 455,-183.5 465.43,-179.45 476.63,-174.57 486.6,-170.02\"/>\n<polygon fill=\"black\" stroke=\"black\" points=\"488.12,-173.17 495.72,-165.8 485.18,-166.82 488.12,-173.17\"/>\n</g>\n<!-- 133696956212384 -->\n<g id=\"node4\" class=\"node\">\n<title>133696956212384</title>\n<polygon fill=\"none\" stroke=\"black\" points=\"1172.99,-109.5 1172.99,-145.5 1334.99,-145.5 1334.99,-109.5 1172.99,-109.5\"/>\n<text text-anchor=\"middle\" x=\"1212.99\" y=\"-123.8\" font-family=\"Times,serif\" font-size=\"14.00\">data 0.1024</text>\n<polyline fill=\"none\" stroke=\"black\" points=\"1252.99,-109.5 1252.99,-145.5 \"/>\n<text text-anchor=\"middle\" x=\"1293.99\" y=\"-123.8\" font-family=\"Times,serif\" font-size=\"14.00\">grad 1.0000</text>\n</g>\n<!-- 133696956212384ReLU&#45;&gt;133696956212384 -->\n<g id=\"edge2\" class=\"edge\">\n<title>133696956212384ReLU&#45;&gt;133696956212384</title>\n<path fill=\"none\" stroke=\"black\" d=\"M1137.14,-127.5C1144.97,-127.5 1153.76,-127.5 1162.9,-127.5\"/>\n<polygon fill=\"black\" stroke=\"black\" points=\"1162.92,-131 1172.92,-127.5 1162.92,-124 1162.92,-131\"/>\n</g>\n<!-- 133696956218000 -->\n<g id=\"node6\" class=\"node\">\n<title>133696956218000</title>\n<polygon fill=\"none\" stroke=\"black\" points=\"290.5,-82.5 290.5,-118.5 452.5,-118.5 452.5,-82.5 290.5,-82.5\"/>\n<text text-anchor=\"middle\" x=\"330.5\" y=\"-96.8\" font-family=\"Times,serif\" font-size=\"14.00\">data 0.0000</text>\n<polyline fill=\"none\" stroke=\"black\" points=\"370.5,-82.5 370.5,-118.5 \"/>\n<text text-anchor=\"middle\" x=\"411.5\" y=\"-96.8\" font-family=\"Times,serif\" font-size=\"14.00\">grad 1.0000</text>\n</g>\n<!-- 133696956208112+ -->\n<g id=\"node15\" class=\"node\">\n<title>133696956208112+</title>\n<ellipse fill=\"none\" stroke=\"black\" cx=\"518\" cy=\"-100.5\" rx=\"27\" ry=\"18\"/>\n<text text-anchor=\"middle\" x=\"518\" y=\"-96.8\" font-family=\"Times,serif\" font-size=\"14.00\">+</text>\n</g>\n<!-- 133696956218000&#45;&gt;133696956208112+ -->\n<g id=\"edge7\" class=\"edge\">\n<title>133696956218000&#45;&gt;133696956208112+</title>\n<path fill=\"none\" stroke=\"black\" d=\"M452.78,-100.5C462.57,-100.5 472.16,-100.5 480.82,-100.5\"/>\n<polygon fill=\"black\" stroke=\"black\" points=\"480.88,-104 490.88,-100.5 480.88,-97 480.88,-104\"/>\n</g>\n<!-- 133696956213920 -->\n<g id=\"node7\" class=\"node\">\n<title>133696956213920</title>\n<polygon fill=\"none\" stroke=\"black\" points=\"290.5,-27.5 290.5,-63.5 452.5,-63.5 452.5,-27.5 290.5,-27.5\"/>\n<text text-anchor=\"middle\" x=\"330.5\" y=\"-41.8\" font-family=\"Times,serif\" font-size=\"14.00\">data 0.2355</text>\n<polyline fill=\"none\" stroke=\"black\" points=\"370.5,-27.5 370.5,-63.5 \"/>\n<text text-anchor=\"middle\" x=\"411.5\" y=\"-41.8\" font-family=\"Times,serif\" font-size=\"14.00\">grad 1.0000</text>\n</g>\n<!-- 133696956213920&#45;&gt;133696956208112+ -->\n<g id=\"edge6\" class=\"edge\">\n<title>133696956213920&#45;&gt;133696956208112+</title>\n<path fill=\"none\" stroke=\"black\" d=\"M427.76,-63.54C436.9,-66.73 446.25,-70.12 455,-73.5 465.18,-77.44 476.15,-82.08 485.99,-86.39\"/>\n<polygon fill=\"black\" stroke=\"black\" points=\"484.82,-89.7 495.38,-90.55 487.66,-83.3 484.82,-89.7\"/>\n</g>\n<!-- 133696956213920* -->\n<g id=\"node8\" class=\"node\">\n<title>133696956213920*</title>\n<ellipse fill=\"none\" stroke=\"black\" cx=\"225\" cy=\"-45.5\" rx=\"27\" ry=\"18\"/>\n<text text-anchor=\"middle\" x=\"225\" y=\"-41.8\" font-family=\"Times,serif\" font-size=\"14.00\">*</text>\n</g>\n<!-- 133696956213920*&#45;&gt;133696956213920 -->\n<g id=\"edge3\" class=\"edge\">\n<title>133696956213920*&#45;&gt;133696956213920</title>\n<path fill=\"none\" stroke=\"black\" d=\"M252.17,-45.5C260.4,-45.5 270.01,-45.5 280.12,-45.5\"/>\n<polygon fill=\"black\" stroke=\"black\" points=\"280.37,-49 290.37,-45.5 280.37,-42 280.37,-49\"/>\n</g>\n<!-- 133700378863280 -->\n<g id=\"node9\" class=\"node\">\n<title>133700378863280</title>\n<polygon fill=\"none\" stroke=\"black\" points=\"0,-55.5 0,-91.5 162,-91.5 162,-55.5 0,-55.5\"/>\n<text text-anchor=\"middle\" x=\"40\" y=\"-69.8\" font-family=\"Times,serif\" font-size=\"14.00\">data 1.0000</text>\n<polyline fill=\"none\" stroke=\"black\" points=\"80,-55.5 80,-91.5 \"/>\n<text text-anchor=\"middle\" x=\"121\" y=\"-69.8\" font-family=\"Times,serif\" font-size=\"14.00\">grad 0.2355</text>\n</g>\n<!-- 133700378863280&#45;&gt;133696956213920* -->\n<g id=\"edge11\" class=\"edge\">\n<title>133700378863280&#45;&gt;133696956213920*</title>\n<path fill=\"none\" stroke=\"black\" d=\"M162.13,-57.7C171.51,-55.85 180.67,-54.04 188.94,-52.41\"/>\n<polygon fill=\"black\" stroke=\"black\" points=\"189.77,-55.82 198.9,-50.45 188.42,-48.95 189.77,-55.82\"/>\n</g>\n<!-- 133696956208352 -->\n<g id=\"node10\" class=\"node\">\n<title>133696956208352</title>\n<polygon fill=\"none\" stroke=\"black\" points=\"581,-137.5 581,-173.5 748,-173.5 748,-137.5 581,-137.5\"/>\n<text text-anchor=\"middle\" x=\"623.5\" y=\"-151.8\" font-family=\"Times,serif\" font-size=\"14.00\">data &#45;0.1331</text>\n<polyline fill=\"none\" stroke=\"black\" points=\"666,-137.5 666,-173.5 \"/>\n<text text-anchor=\"middle\" x=\"707\" y=\"-151.8\" font-family=\"Times,serif\" font-size=\"14.00\">grad 1.0000</text>\n</g>\n<!-- 133696956208352&#45;&gt;133696956211808+ -->\n<g id=\"edge14\" class=\"edge\">\n<title>133696956208352&#45;&gt;133696956211808+</title>\n<path fill=\"none\" stroke=\"black\" d=\"M748.3,-139.46C757.61,-137.65 766.68,-135.89 774.88,-134.31\"/>\n<polygon fill=\"black\" stroke=\"black\" points=\"775.59,-137.73 784.75,-132.39 774.26,-130.86 775.59,-137.73\"/>\n</g>\n<!-- 133696956208352*&#45;&gt;133696956208352 -->\n<g id=\"edge4\" class=\"edge\">\n<title>133696956208352*&#45;&gt;133696956208352</title>\n<path fill=\"none\" stroke=\"black\" d=\"M545.17,-155.5C552.75,-155.5 561.5,-155.5 570.74,-155.5\"/>\n<polygon fill=\"black\" stroke=\"black\" points=\"570.92,-159 580.92,-155.5 570.92,-152 570.92,-159\"/>\n</g>\n<!-- 133696956217616 -->\n<g id=\"node12\" class=\"node\">\n<title>133696956217616</title>\n<polygon fill=\"none\" stroke=\"black\" points=\"288,-137.5 288,-173.5 455,-173.5 455,-137.5 288,-137.5\"/>\n<text text-anchor=\"middle\" x=\"330.5\" y=\"-151.8\" font-family=\"Times,serif\" font-size=\"14.00\">data &#45;2.0000</text>\n<polyline fill=\"none\" stroke=\"black\" points=\"373,-137.5 373,-173.5 \"/>\n<text text-anchor=\"middle\" x=\"414\" y=\"-151.8\" font-family=\"Times,serif\" font-size=\"14.00\">grad 0.0665</text>\n</g>\n<!-- 133696956217616&#45;&gt;133696956208352* -->\n<g id=\"edge8\" class=\"edge\">\n<title>133696956217616&#45;&gt;133696956208352*</title>\n<path fill=\"none\" stroke=\"black\" d=\"M455.3,-155.5C464.14,-155.5 472.77,-155.5 480.64,-155.5\"/>\n<polygon fill=\"black\" stroke=\"black\" points=\"480.85,-159 490.85,-155.5 480.85,-152 480.85,-159\"/>\n</g>\n<!-- 133696956212096 -->\n<g id=\"node13\" class=\"node\">\n<title>133696956212096</title>\n<polygon fill=\"none\" stroke=\"black\" points=\"0,-0.5 0,-36.5 162,-36.5 162,-0.5 0,-0.5\"/>\n<text text-anchor=\"middle\" x=\"40\" y=\"-14.8\" font-family=\"Times,serif\" font-size=\"14.00\">data 0.2355</text>\n<polyline fill=\"none\" stroke=\"black\" points=\"80,-0.5 80,-36.5 \"/>\n<text text-anchor=\"middle\" x=\"121\" y=\"-14.8\" font-family=\"Times,serif\" font-size=\"14.00\">grad 1.0000</text>\n</g>\n<!-- 133696956212096&#45;&gt;133696956213920* -->\n<g id=\"edge12\" class=\"edge\">\n<title>133696956212096&#45;&gt;133696956213920*</title>\n<path fill=\"none\" stroke=\"black\" d=\"M162.13,-33.74C171.51,-35.52 180.67,-37.26 188.94,-38.83\"/>\n<polygon fill=\"black\" stroke=\"black\" points=\"188.43,-42.3 198.9,-40.73 189.73,-35.42 188.43,-42.3\"/>\n</g>\n<!-- 133696956208112 -->\n<g id=\"node14\" class=\"node\">\n<title>133696956208112</title>\n<polygon fill=\"none\" stroke=\"black\" points=\"583.5,-82.5 583.5,-118.5 745.5,-118.5 745.5,-82.5 583.5,-82.5\"/>\n<text text-anchor=\"middle\" x=\"623.5\" y=\"-96.8\" font-family=\"Times,serif\" font-size=\"14.00\">data 0.2355</text>\n<polyline fill=\"none\" stroke=\"black\" points=\"663.5,-82.5 663.5,-118.5 \"/>\n<text text-anchor=\"middle\" x=\"704.5\" y=\"-96.8\" font-family=\"Times,serif\" font-size=\"14.00\">grad 1.0000</text>\n</g>\n<!-- 133696956208112&#45;&gt;133696956211808+ -->\n<g id=\"edge9\" class=\"edge\">\n<title>133696956208112&#45;&gt;133696956211808+</title>\n<path fill=\"none\" stroke=\"black\" d=\"M745.78,-115.5C755.96,-117.4 765.92,-119.26 774.85,-120.93\"/>\n<polygon fill=\"black\" stroke=\"black\" points=\"774.33,-124.4 784.8,-122.79 775.61,-117.51 774.33,-124.4\"/>\n</g>\n<!-- 133696956208112+&#45;&gt;133696956208112 -->\n<g id=\"edge5\" class=\"edge\">\n<title>133696956208112+&#45;&gt;133696956208112</title>\n<path fill=\"none\" stroke=\"black\" d=\"M545.17,-100.5C553.4,-100.5 563.01,-100.5 573.12,-100.5\"/>\n<polygon fill=\"black\" stroke=\"black\" points=\"573.37,-104 583.37,-100.5 573.37,-97 573.37,-104\"/>\n</g>\n</g>\n</svg>\n",
            "text/plain": [
              "<graphviz.graphs.Digraph at 0x7998bf951ba0>"
            ]
          },
          "metadata": {},
          "execution_count": 26
        }
      ]
    },
    {
      "cell_type": "markdown",
      "source": [
        "#### MLP для бинарной классификации"
      ],
      "metadata": {
        "id": "1dv25IPTm3BT"
      }
    },
    {
      "cell_type": "code",
      "source": [
        "X, y = make_moons(n_samples=100, noise=0.1)\n",
        "\n",
        "y = y*2 - 1 # make y be -1 or 1\n",
        "# visualize in 2D\n",
        "plt.figure(figsize=(5,5))\n",
        "plt.scatter(X[:,0], X[:,1], c=y, s=20, cmap='jet')"
      ],
      "metadata": {
        "id": "SxlwcBdg7G66",
        "colab": {
          "base_uri": "https://localhost:8080/",
          "height": 466
        },
        "outputId": "ac117ff4-d572-4271-847a-4b612339a9cc"
      },
      "execution_count": 27,
      "outputs": [
        {
          "output_type": "execute_result",
          "data": {
            "text/plain": [
              "<matplotlib.collections.PathCollection at 0x7998bfe73370>"
            ]
          },
          "metadata": {},
          "execution_count": 27
        },
        {
          "output_type": "display_data",
          "data": {
            "text/plain": [
              "<Figure size 500x500 with 1 Axes>"
            ],
            "image/png": "[encoded data removed]"
          },
          "metadata": {}
        }
      ]
    },
    {
      "cell_type": "code",
      "source": [
        "X[0], y[0]"
      ],
      "metadata": {
        "colab": {
          "base_uri": "https://localhost:8080/"
        },
        "id": "1qxsjISDk5cg",
        "outputId": "4b287cd6-d093-4dd2-b42b-abb53f112fba"
      },
      "execution_count": 28,
      "outputs": [
        {
          "output_type": "execute_result",
          "data": {
            "text/plain": [
              "(array([ 1.58202308, -0.44581483]), 1)"
            ]
          },
          "metadata": {},
          "execution_count": 28
        }
      ]
    },
    {
      "cell_type": "code",
      "source": [
        "MLP??"
      ],
      "metadata": {
        "id": "EU_zgjaVkfq9"
      },
      "execution_count": 28,
      "outputs": []
    },
    {
      "cell_type": "code",
      "source": [
        "Layer??"
      ],
      "metadata": {
        "id": "MjTtPjPi9GB-"
      },
      "execution_count": 29,
      "outputs": []
    },
    {
      "cell_type": "code",
      "source": [
        "Module??"
      ],
      "metadata": {
        "id": "zLu5jABPkqEK"
      },
      "execution_count": 30,
      "outputs": []
    },
    {
      "cell_type": "code",
      "source": [
        "model = MLP(2, [16, 16, 1]) # 2-layer neural network\n",
        "print(\"number of parameters\", len(model.parameters()))"
      ],
      "metadata": {
        "colab": {
          "base_uri": "https://localhost:8080/"
        },
        "id": "8uWxWtpSj-Gr",
        "outputId": "7b2d1cc5-136f-4bb6-bc4e-f0c06017ca4d"
      },
      "execution_count": 29,
      "outputs": [
        {
          "output_type": "stream",
          "name": "stdout",
          "text": [
            "number of parameters 337\n"
          ]
        }
      ]
    },
    {
      "cell_type": "code",
      "source": [
        "model.layers"
      ],
      "metadata": {
        "colab": {
          "base_uri": "https://localhost:8080/"
        },
        "id": "CDFlsn00j-JO",
        "outputId": "6138f302-c7e4-4d9c-926e-0401ace43f19"
      },
      "execution_count": 30,
      "outputs": [
        {
          "output_type": "execute_result",
          "data": {
            "text/plain": [
              "[Layer of [ReLUNeuron(2), ReLUNeuron(2), ReLUNeuron(2), ReLUNeuron(2), ReLUNeuron(2), ReLUNeuron(2), ReLUNeuron(2), ReLUNeuron(2), ReLUNeuron(2), ReLUNeuron(2), ReLUNeuron(2), ReLUNeuron(2), ReLUNeuron(2), ReLUNeuron(2), ReLUNeuron(2), ReLUNeuron(2)],\n",
              " Layer of [ReLUNeuron(16), ReLUNeuron(16), ReLUNeuron(16), ReLUNeuron(16), ReLUNeuron(16), ReLUNeuron(16), ReLUNeuron(16), ReLUNeuron(16), ReLUNeuron(16), ReLUNeuron(16), ReLUNeuron(16), ReLUNeuron(16), ReLUNeuron(16), ReLUNeuron(16), ReLUNeuron(16), ReLUNeuron(16)],\n",
              " Layer of [LinearNeuron(16)]]"
            ]
          },
          "metadata": {},
          "execution_count": 30
        }
      ]
    },
    {
      "cell_type": "code",
      "source": [
        "# посчитаем параметры\n",
        "(2 * 16 + 16) + (16 * 16 + 16) + (16 * 1 + 1)"
      ],
      "metadata": {
        "colab": {
          "base_uri": "https://localhost:8080/"
        },
        "id": "yRxUBd6Jj-Ln",
        "outputId": "64ed55ce-6258-45e3-fb22-ec4d2da5a44f"
      },
      "execution_count": 31,
      "outputs": [
        {
          "output_type": "execute_result",
          "data": {
            "text/plain": [
              "337"
            ]
          },
          "metadata": {},
          "execution_count": 31
        }
      ]
    },
    {
      "cell_type": "code",
      "source": [
        "def loss(batch_size=None):\n",
        "    Xb, yb = X, y\n",
        "    inputs = [list(map(Value, xrow)) for xrow in Xb]\n",
        "\n",
        "    # forward the model to get scores\n",
        "    scores = list(map(model, inputs))\n",
        "\n",
        "    # svm \"max-margin\" loss\n",
        "    losses = [(1 + -yi * score_i).relu() for yi, score_i in zip(yb, scores)]\n",
        "    data_loss = sum(losses) * (1.0 / len(losses))\n",
        "    # L2 regularization\n",
        "    alpha = 1e-4\n",
        "    reg_loss = alpha * sum((p * p for p in model.parameters()))\n",
        "    total_loss = data_loss + reg_loss\n",
        "\n",
        "    # also get accuracy\n",
        "    accuracy = [(yi > 0) == (score_i.data > 0) for yi, score_i in zip(yb, scores)]\n",
        "    return total_loss, sum(accuracy) / len(accuracy)\n",
        "\n",
        "total_loss, acc = loss()\n",
        "print(total_loss, acc)"
      ],
      "metadata": {
        "colab": {
          "base_uri": "https://localhost:8080/"
        },
        "id": "s5zk3OeMj-OJ",
        "outputId": "b65ed918-bc38-4933-b37b-2b6cc7dfd90a"
      },
      "execution_count": 32,
      "outputs": [
        {
          "output_type": "stream",
          "name": "stdout",
          "text": [
            "Value(data=0.41454652413193865, grad=0) 0.82\n"
          ]
        }
      ]
    },
    {
      "cell_type": "code",
      "source": [
        "for k in range(100):\n",
        "    # forward\n",
        "    total_loss, acc = loss()\n",
        "\n",
        "    # backward\n",
        "    model.zero_grad()\n",
        "    total_loss.backward()\n",
        "\n",
        "    # update (sgd)\n",
        "    learning_rate = 1.0 - 0.9 * k / 100\n",
        "    for p in model.parameters():\n",
        "        p.data -= learning_rate * p.grad\n",
        "\n",
        "    if k % 1 == 0:\n",
        "        print(f\"step {k} loss {total_loss.data}, accuracy {acc*100}%\")"
      ],
      "metadata": {
        "colab": {
          "base_uri": "https://localhost:8080/"
        },
        "id": "27ZNbO4fj-RF",
        "outputId": "e2008ae3-6998-4e2a-f357-0dd79b5fa8fc"
      },
      "execution_count": 33,
      "outputs": [
        {
          "output_type": "stream",
          "name": "stdout",
          "text": [
            "step 0 loss 0.41454652413193865, accuracy 82.0%\n",
            "step 1 loss 0.7863805046215181, accuracy 81.0%\n",
            "step 2 loss 0.461961145267714, accuracy 83.0%\n",
            "step 3 loss 0.5085892319645842, accuracy 83.0%\n",
            "step 4 loss 0.31049052687261214, accuracy 86.0%\n",
            "step 5 loss 0.2689947571730255, accuracy 89.0%\n",
            "step 6 loss 0.24554659072506863, accuracy 89.0%\n",
            "step 7 loss 0.23622330038400666, accuracy 90.0%\n",
            "step 8 loss 0.21720946703312552, accuracy 90.0%\n",
            "step 9 loss 0.21400559443772385, accuracy 91.0%\n",
            "step 10 loss 0.20939260057894807, accuracy 91.0%\n",
            "step 11 loss 0.3300210916807542, accuracy 92.0%\n",
            "step 12 loss 0.38174928707618516, accuracy 87.0%\n",
            "step 13 loss 0.4508064668364713, accuracy 85.0%\n",
            "step 14 loss 0.24799516110878045, accuracy 89.0%\n",
            "step 15 loss 0.19302863848938961, accuracy 91.0%\n",
            "step 16 loss 0.18158693713880056, accuracy 93.0%\n",
            "step 17 loss 0.18371866789300473, accuracy 94.0%\n",
            "step 18 loss 0.17646529149266213, accuracy 92.0%\n",
            "step 19 loss 0.2118644238610899, accuracy 95.0%\n",
            "step 20 loss 0.23740708747640143, accuracy 90.0%\n",
            "step 21 loss 0.2424213728622781, accuracy 91.0%\n",
            "step 22 loss 0.16352206202435898, accuracy 93.0%\n",
            "step 23 loss 0.14055706166037016, accuracy 94.0%\n",
            "step 24 loss 0.12641650696039422, accuracy 95.0%\n",
            "step 25 loss 0.11779662914897572, accuracy 96.0%\n",
            "step 26 loss 0.11656157360300687, accuracy 96.0%\n",
            "step 27 loss 0.10693241862855216, accuracy 97.0%\n",
            "step 28 loss 0.10958624114174169, accuracy 96.0%\n",
            "step 29 loss 0.10134992156481276, accuracy 98.0%\n",
            "step 30 loss 0.10930078228361885, accuracy 95.0%\n",
            "step 31 loss 0.08885676934639257, accuracy 98.0%\n",
            "step 32 loss 0.0822624174703037, accuracy 98.0%\n",
            "step 33 loss 0.07952622026383123, accuracy 97.0%\n",
            "step 34 loss 0.08377693512335735, accuracy 98.0%\n",
            "step 35 loss 0.09834976703042793, accuracy 97.0%\n",
            "step 36 loss 0.0805034897187587, accuracy 98.0%\n",
            "step 37 loss 0.0882343743831684, accuracy 98.0%\n",
            "step 38 loss 0.07944486631852585, accuracy 98.0%\n",
            "step 39 loss 0.10287087028218089, accuracy 96.0%\n",
            "step 40 loss 0.11136981231707056, accuracy 96.0%\n",
            "step 41 loss 0.10982494830215679, accuracy 95.0%\n",
            "step 42 loss 0.05744935437701046, accuracy 98.0%\n",
            "step 43 loss 0.04896980932498546, accuracy 98.0%\n",
            "step 44 loss 0.04452824806589162, accuracy 98.0%\n",
            "step 45 loss 0.03857659354607201, accuracy 99.0%\n",
            "step 46 loss 0.03629101324493242, accuracy 100.0%\n",
            "step 47 loss 0.03618323133012296, accuracy 99.0%\n",
            "step 48 loss 0.04728429210924266, accuracy 99.0%\n",
            "step 49 loss 0.03248749654352533, accuracy 100.0%\n",
            "step 50 loss 0.030335357997559816, accuracy 100.0%\n",
            "step 51 loss 0.028156244389769505, accuracy 100.0%\n",
            "step 52 loss 0.029230812235729126, accuracy 100.0%\n",
            "step 53 loss 0.027270821931031152, accuracy 100.0%\n",
            "step 54 loss 0.024973498876801573, accuracy 100.0%\n",
            "step 55 loss 0.02558550342438838, accuracy 100.0%\n",
            "step 56 loss 0.024083011912084673, accuracy 100.0%\n",
            "step 57 loss 0.0255029133464586, accuracy 100.0%\n",
            "step 58 loss 0.021453874084932222, accuracy 100.0%\n",
            "step 59 loss 0.019916045963472316, accuracy 100.0%\n",
            "step 60 loss 0.020874485829553507, accuracy 100.0%\n",
            "step 61 loss 0.02352369573570373, accuracy 100.0%\n",
            "step 62 loss 0.03326503825041317, accuracy 99.0%\n",
            "step 63 loss 0.019791643375603657, accuracy 100.0%\n",
            "step 64 loss 0.021290815578892223, accuracy 100.0%\n",
            "step 65 loss 0.030884203516995862, accuracy 100.0%\n",
            "step 66 loss 0.018927539525833106, accuracy 100.0%\n",
            "step 67 loss 0.018852402065537233, accuracy 100.0%\n",
            "step 68 loss 0.02078797948389191, accuracy 100.0%\n",
            "step 69 loss 0.01563093592456672, accuracy 100.0%\n",
            "step 70 loss 0.01905328666327437, accuracy 100.0%\n",
            "step 71 loss 0.01619222407425494, accuracy 100.0%\n",
            "step 72 loss 0.024471109661991345, accuracy 100.0%\n",
            "step 73 loss 0.01564616679328279, accuracy 100.0%\n",
            "step 74 loss 0.019398658398722304, accuracy 100.0%\n",
            "step 75 loss 0.020862785805321207, accuracy 100.0%\n",
            "step 76 loss 0.014047328210772154, accuracy 100.0%\n",
            "step 77 loss 0.01944617841459297, accuracy 100.0%\n",
            "step 78 loss 0.021606808339660943, accuracy 100.0%\n",
            "step 79 loss 0.014148971740402144, accuracy 100.0%\n",
            "step 80 loss 0.014910996431333663, accuracy 100.0%\n",
            "step 81 loss 0.01721007109292912, accuracy 100.0%\n",
            "step 82 loss 0.012366212108223178, accuracy 100.0%\n",
            "step 83 loss 0.012257445936183161, accuracy 100.0%\n",
            "step 84 loss 0.012186318425017391, accuracy 100.0%\n",
            "step 85 loss 0.01257294527319086, accuracy 100.0%\n",
            "step 86 loss 0.012632904962825906, accuracy 100.0%\n",
            "step 87 loss 0.01381341587243698, accuracy 100.0%\n",
            "step 88 loss 0.013181444719459269, accuracy 100.0%\n",
            "step 89 loss 0.012112123429310276, accuracy 100.0%\n",
            "step 90 loss 0.011991619681594404, accuracy 100.0%\n",
            "step 91 loss 0.01191484101087392, accuracy 100.0%\n",
            "step 92 loss 0.011841435415422583, accuracy 100.0%\n",
            "step 93 loss 0.011891835891202848, accuracy 100.0%\n",
            "step 94 loss 0.011849492283132935, accuracy 100.0%\n",
            "step 95 loss 0.011772922324668656, accuracy 100.0%\n",
            "step 96 loss 0.011713712499624353, accuracy 100.0%\n",
            "step 97 loss 0.011658024588577119, accuracy 100.0%\n",
            "step 98 loss 0.011630878060508679, accuracy 100.0%\n",
            "step 99 loss 0.011662977441662272, accuracy 100.0%\n"
          ]
        }
      ]
    },
    {
      "cell_type": "code",
      "source": [
        "h = 0.25\n",
        "x_min, x_max = X[:, 0].min() - 1, X[:, 0].max() + 1\n",
        "y_min, y_max = X[:, 1].min() - 1, X[:, 1].max() + 1\n",
        "xx, yy = np.meshgrid(\n",
        "    np.arange(x_min, x_max, h),\n",
        "    np.arange(y_min, y_max, h)\n",
        ")\n",
        "Xmesh = np.c_[xx.ravel(), yy.ravel()]\n",
        "inputs = [list(map(Value, xrow)) for xrow in Xmesh]\n",
        "scores = list(map(model, inputs))\n",
        "Z = np.array([s.data > 0 for s in scores])\n",
        "Z = Z.reshape(xx.shape)\n",
        "\n",
        "fig = plt.figure()\n",
        "plt.contourf(xx, yy, Z, cmap=plt.cm.Spectral, alpha=0.8)\n",
        "plt.scatter(X[:, 0], X[:, 1], c=y, s=40, cmap=plt.cm.Spectral)\n",
        "plt.xlim(xx.min(), xx.max())\n",
        "plt.ylim(yy.min(), yy.max())"
      ],
      "metadata": {
        "colab": {
          "base_uri": "https://localhost:8080/",
          "height": 447
        },
        "id": "ByZKLTnPj-Tf",
        "outputId": "5754caba-bbfc-4104-97c8-ff0b3717c9bf"
      },
      "execution_count": 34,
      "outputs": [
        {
          "output_type": "execute_result",
          "data": {
            "text/plain": [
              "(-1.5978882018302847, 2.1521117981697153)"
            ]
          },
          "metadata": {},
          "execution_count": 34
        },
        {
          "output_type": "display_data",
          "data": {
            "text/plain": [
              "<Figure size 640x480 with 1 Axes>"
            ],
            "image/png": "[encoded data removed]"
          },
          "metadata": {}
        }
      ]
    }
  ]
}