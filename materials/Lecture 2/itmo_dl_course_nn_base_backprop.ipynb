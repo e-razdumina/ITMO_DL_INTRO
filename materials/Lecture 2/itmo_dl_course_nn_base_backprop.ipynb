{
  "nbformat": 4,
  "nbformat_minor": 0,
  "metadata": {
    "colab": {
      "provenance": [],
      "toc_visible": true
    },
    "kernelspec": {
      "name": "python3",
      "display_name": "Python 3"
    },
    "language_info": {
      "name": "python"
    }
  },
  "cells": [
    {
      "cell_type": "markdown",
      "metadata": {
        "id": "hlHeqIYvV1xj"
      },
      "source": [
        "### Обучение нейронной сети"
      ]
    },
    {
      "cell_type": "markdown",
      "metadata": {
        "id": "mDPK9XdUV1xj"
      },
      "source": [
        "На практике обучение нейронных сетей (подбор значений весов) производится при помощи **метода градиентного спуска**.\n",
        "\n",
        "Обучение заключается в **минимизации функции потерь по обучаемым параметрам нейронной сети** — весам и смещениям.\n",
        "\n",
        "Для минимизации функции потерь методом градиентного спуска **необходимо уметь вычислять градиент функции потерь по всем обучаемым параметрам модели**."
      ]
    },
    {
      "cell_type": "markdown",
      "metadata": {
        "id": "Xwql9YztV1xj"
      },
      "source": [
        "####  Прямое и обратное распространение"
      ]
    },
    {
      "cell_type": "markdown",
      "metadata": {
        "id": "fpqIKuuKV1xj"
      },
      "source": [
        "Процесс расчета градиента функции потерь по обучаемым параметрам состоит из двух этапов: **прямого и обратного распространения**."
      ]
    },
    {
      "cell_type": "markdown",
      "metadata": {
        "id": "UMPriZaLV1xk"
      },
      "source": [
        "<center><img src =\"https://edunet.kea.su/repo/EduNet-content/dev-2.3/L05/out/forward_pass.png\" width=\"500\"></center>"
      ]
    },
    {
      "cell_type": "markdown",
      "metadata": {
        "id": "GthGfQhXV1xk"
      },
      "source": [
        "Во время **прямого распространения** (forward pass) производится расчет значений на выходе модели $y_{pred}$, которые передаются в функцию потерь $\\text{Loss}$ для сравнения с целевыми значениями $y_{true}$.\n",
        "\n",
        "$$\\large y_{pred}=\\text{model}\\left(x, 𝐖\\right)$$\n",
        "\n",
        "$$\\large L=\\text{Loss}\\left(y_{true}, y_{pred}\\right)$$"
      ]
    },
    {
      "cell_type": "markdown",
      "metadata": {
        "id": "KNpjlopVV1xk"
      },
      "source": [
        "Значение функции потерь зависит от целевых значений $y_{true}$, входных данных $x$ и параметров модели $𝐖$.\n",
        "\n",
        "$$\\large L=\\text{Loss}\\left(y_{true}, \\text{model}\\left(x, 𝐖\\right)\\right) = f\\left(y_{true}, x, 𝐖\\right)$$"
      ]
    },
    {
      "cell_type": "markdown",
      "metadata": {
        "id": "LJa-CmZrV1xk"
      },
      "source": [
        "А значит, если модель и функция потерь дифференцируемы, мы можем посчитать $\\nabla_𝐖L$ — градиент функции потерь по обучаемым параметрам. Для этого нужен этап **обратного распространения** (backward pass)."
      ]
    },
    {
      "cell_type": "markdown",
      "metadata": {
        "id": "C4BUDZ3-V1xl"
      },
      "source": [
        "<center><img src =\"https://edunet.kea.su/repo/EduNet-content/dev-2.3/L05/out/backward_pass.png\" width=\"500\"></center>"
      ]
    },
    {
      "cell_type": "markdown",
      "metadata": {
        "id": "S5oa_irAV1xl"
      },
      "source": [
        "####  Метод обратного распространения ошибки"
      ]
    },
    {
      "cell_type": "markdown",
      "source": [
        "[Learning Internal Representations by Error Propagation](https://stanford.edu/~jlmcc/papers/PDP/Volume%201/Chap8_PDP86.pdf)"
      ],
      "metadata": {
        "id": "0W6hJCLenEGs"
      }
    },
    {
      "cell_type": "markdown",
      "metadata": {
        "id": "3RBKnpKCV1xl"
      },
      "source": [
        "Для эффективного численного расчета градиента функции потерь по обучаемым параметрам модели применяется **метод обратного распространения ошибки (backpropagation)**. Благодаря данному методу становится практически возможным использование метода градиентного спуска для проведения процедуры обучения."
      ]
    },
    {
      "cell_type": "markdown",
      "metadata": {
        "id": "cicyQDR-V1xm"
      },
      "source": [
        "Метод обратного распространения ошибки использует структуру многослойной нейронной сети как сложной функции, применяя **правило дифференцирования сложной функции** для вычисления градиента от функции потерь по весам сети. Градиент от функции потерь вычисляется при движении по нейронной сети от её выходов в направлении входов. Именно такой порядок обхода вычислительного графа и обуславливает название метода."
      ]
    },
    {
      "cell_type": "markdown",
      "metadata": {
        "id": "EFuMXMeVV1xm"
      },
      "source": [
        "#### Вычислительный граф"
      ]
    },
    {
      "cell_type": "markdown",
      "metadata": {
        "id": "XO57ukyWV1xm"
      },
      "source": [
        "По существу, нейронная сеть является сложной функцией, работу которой можно представить как последовательное выполнение математических операций. Такое представление функций называется **вычислительным графом**."
      ]
    },
    {
      "cell_type": "markdown",
      "metadata": {
        "id": "m7mNdT2JV1xn"
      },
      "source": [
        "<center><img src =\"https://edunet.kea.su/repo/EduNet-content/dev-2.3/L05/out/nn_fully_connected.png\" width=\"500\"></center>"
      ]
    },
    {
      "cell_type": "markdown",
      "metadata": {
        "id": "86Q-6mpnV1xn"
      },
      "source": [
        "Алгоритм обратного распространения ошибки позволяет находить градиенты для любого графа вычислений, если описываемая им функция дифференцируема.\n",
        "\n",
        "В его основе лежит правило взятия производной сложной функции (chain rule)."
      ]
    },
    {
      "cell_type": "markdown",
      "metadata": {
        "id": "N1Iu7dVTV1xq"
      },
      "source": [
        "####  Пошаговый разбор метода обратного распространения"
      ]
    },
    {
      "cell_type": "markdown",
      "metadata": {
        "id": "bVFH1gNmV1xq"
      },
      "source": [
        "Пусть в каком-то узле графа производится вычисление\n",
        "\n",
        "$$\\large z = f(x, y),$$\n",
        "\n",
        "и далее результат вычисления $\\large z$ используется для вычисления функции $\\large L(z)=L(f(x, y))$.\n",
        "\n",
        "Тогда правило вычисления производных $\\dfrac{\\partial L}{\\partial x}$ и $\\dfrac{\\partial L}{\\partial y}$ можно представить следующим образом:"
      ]
    },
    {
      "cell_type": "markdown",
      "metadata": {
        "id": "hUzYkiG2V1xq"
      },
      "source": [
        "<center><img src =\"https://edunet.kea.su/repo/EduNet-content/dev-2.3/L05/out/rule_for_taking_gradients.png\"  width=\"500\"></center>"
      ]
    },
    {
      "cell_type": "markdown",
      "metadata": {
        "id": "uei3RxpDV1xr"
      },
      "source": [
        "Рассмотрим следующую функцию:\n",
        "\n",
        "$$\\Large f(w,x)=\\frac{1}{1+e^{-(w_0x_0+w_1x_1+w_2)}}$$\n",
        "\n",
        "Представим ее в виде вычислительного графа, состоящего из элементарных операций, от которых просто берутся производные:"
      ]
    },
    {
      "cell_type": "markdown",
      "metadata": {
        "id": "yT4ij4EWV1xs"
      },
      "source": [
        "<center><img src =\"https://edunet.kea.su/repo/EduNet-content/dev-2.3/L05/out/graph_of_calculation_gradient.png\"  width=\"700\"></center>"
      ]
    },
    {
      "cell_type": "markdown",
      "metadata": {
        "id": "-ecWG8s8V1xs"
      },
      "source": [
        "На примере данной функции рассмотрим алгоритм обратного распространения ошибки и найдём величину её градиента по параметрам $\\large w$.\n",
        "Нам потребуется вычислить частные производные $\\dfrac{\\partial f}{\\partial w_0}, \\dfrac{\\partial f}{\\partial w_1}, \\dfrac{\\partial f}{dw_2}, \\dfrac{\\partial f}{\\partial x_0}$ и $\\dfrac{\\partial f}{\\partial x_1}$.\n",
        "\n",
        "Пусть \"веса\" $w$ инициализированы значениями $w_0=2,\\;w_1=-3,\\;w_2=-3$, а \"входные признаки\" $x$ принимают значения $x_0=-1,\\;x_1=-2$.\n",
        "\n",
        "Делая прямой проход через граф вычислений для данной функции, получаем её значение для заданных $w$ и $x$ равным $f=0.73$:"
      ]
    },
    {
      "cell_type": "markdown",
      "metadata": {
        "id": "ZoGOHSmIV1xt"
      },
      "source": [
        "<center><img src =\"https://edunet.kea.su/repo/EduNet-content/dev-2.3/L05/out/forward_pass_example.png\" width=\"800\"></center>"
      ]
    },
    {
      "cell_type": "markdown",
      "metadata": {
        "id": "c55zvjEQV1xv"
      },
      "source": [
        "Далее, в соответствии с алгоритмом обратного распространения ошибки, рассчитаем частные производные, пройдясь последовательно по графу вычислений, постепенно накапливая искомое значение для градиента функции.\n",
        "\n",
        "Для начала зададим $\\dfrac{df}{df}=1$.\n",
        "\n",
        "Начинаем обратный проход по графу вычислений. Первая вершина содержит функцию $f(x)=\\dfrac{1}{x}$, производная которой равна $\\dfrac{df}{dx}=-\\dfrac{1}{x^2}$"
      ]
    },
    {
      "cell_type": "markdown",
      "metadata": {
        "id": "Keqd3OIYV1xw"
      },
      "source": [
        "<center><img src =\"https://edunet.kea.su/repo/EduNet-content/dev-2.3/L05/out/compute_gradient_1_step.png\" width=\"800\"></center>\n",
        "\n",
        "$$\\large f(x)=\\frac1x \\quad \\longrightarrow \\quad \\frac{df}{dx} = -\\frac{1}{x^2}$$"
      ]
    },
    {
      "cell_type": "markdown",
      "metadata": {
        "id": "IZBqSFS0V1xx"
      },
      "source": [
        "В следующем узле находится функция $f(x)=1+x$. Производная от выражения в данном узле равняется $\\dfrac{df}{dx}=1$:"
      ]
    },
    {
      "cell_type": "markdown",
      "metadata": {
        "id": "SO5Q6KXRV1xy"
      },
      "source": [
        "<center><img src =\"https://edunet.kea.su/repo/EduNet-content/dev-2.3/L05/out/compute_gradient_2_step.png\" width=\"800\"></center>\n",
        "\n",
        "$$\\large f(x)=c+x \\quad \\longrightarrow \\quad \\frac{df}{dx} = 1$$"
      ]
    },
    {
      "cell_type": "markdown",
      "metadata": {
        "id": "ahPPNDQbV1xz"
      },
      "source": [
        "Третья вершина содержит экспоненту $f(x)=e^x$. Её производная также является экспонентой $\\dfrac{df}{dx}=e^x$:"
      ]
    },
    {
      "cell_type": "markdown",
      "metadata": {
        "id": "yhxEF0dyV1x0"
      },
      "source": [
        "<center><img src =\"https://edunet.kea.su/repo/EduNet-content/dev-2.3/L05/out/compute_gradient_3_step.png\" width=\"800\"></center>\n",
        "\n",
        "$$\\large f(x)=e^x \\quad \\longrightarrow \\quad \\frac{df}{dx} = e^x$$"
      ]
    },
    {
      "cell_type": "markdown",
      "metadata": {
        "id": "60CPzx3UV1x2"
      },
      "source": [
        "Следующая вершина, четвертая, содержит умножение на константу $f(x)=ax$. Производная равна $\\dfrac{df}{dx}=a$ (в данном случае $a=-1$):"
      ]
    },
    {
      "cell_type": "markdown",
      "metadata": {
        "id": "xx9Ec7-lV1x2"
      },
      "source": [
        "<center><img src =\"https://edunet.kea.su/repo/EduNet-content/dev-2.3/L05/out/compute_gradient_4_step.png\" width=\"800\"></center>\n",
        "\n",
        "$$\\large f(x)=ax \\quad \\longrightarrow \\quad \\frac{df}{dx} = a$$"
      ]
    },
    {
      "cell_type": "markdown",
      "metadata": {
        "id": "8ZlariWFV1x3"
      },
      "source": [
        "Двигаясь по графу вычислений, мы дошли до узла суммирования, который имеет два входа. Относительно каждого из входов локальный градиент в вершине суммирования будет равен $1$:\n",
        "$$\\large f(x,y)=x+y \\quad \\Rightarrow \\quad \\frac{\\partial f}{\\partial x}=1  \\quad \\quad \\frac{\\partial f}{\\partial y}=1$$\n",
        "Так как умножение на единицу не изменит значения входного градиента, всем входам узла суммирования мы можем приписать точно такое же значение входного градиента ($0.2$), что мы имели и для самого узла суммирования. Будем действовать аналогично и со всеми остальными узлами суммирования, которые встретятся нам в вычислительном графе."
      ]
    },
    {
      "cell_type": "markdown",
      "metadata": {
        "id": "D3yCVlcTV1x3"
      },
      "source": [
        "<center><img src =\"https://edunet.kea.su/repo/EduNet-content/dev-2.3/L05/out/compute_gradient_5_step.png\" width=\"800\"></center>"
      ]
    },
    {
      "cell_type": "markdown",
      "metadata": {
        "id": "bPWB4baZV1x3"
      },
      "source": [
        "Двигаясь далее к началу графа вычислений, мы подходим к вершинам умножения. Для такой вершины локальный градиент по отношению к какому-либо из входов будет равен значению оставшегося входа. Остается умножить локальный градиент на входящий.\n",
        "\n",
        "$$\\large f(w,x)=wx \\quad \\Rightarrow \\quad \\frac{\\partial f}{\\partial w}=x  \\quad \\quad \\frac{\\partial f}{\\partial x}=w$$\n",
        "\n",
        "Точно так же мы можем поступить и с оставшейся второй вершиной умножения, которая привязана к $w_1$ и $x_1$:"
      ]
    },
    {
      "cell_type": "markdown",
      "metadata": {
        "id": "bpB4pfBsV1x4"
      },
      "source": [
        "<center><img src =\"https://edunet.kea.su/repo/EduNet-content/dev-2.3/L05/out/compute_gradient_6_step.png\" width=\"800\"></center>"
      ]
    },
    {
      "cell_type": "markdown",
      "metadata": {
        "id": "vb9pNHczV1x5"
      },
      "source": [
        "Так, двигаясь по графу вычислений в обратном направлении от выхода функции к входным аргументам, мы последовательно для каждого узла умножаем локальный градиент на входящий градиент, используя цепное правило дифференцирования сложной функции. В описанном примере мы полностью разбили граф вычислений на отдельные элементарные узлы. Разбиение вычислительного графа на элементарные узлы вовсе не обязательно — мы можем сгруппировать несколько вершин вместе, если они образуют дифференцируемую функцию, от которой \"удобно\" брать производную, и рассматривать их совместно."
      ]
    },
    {
      "cell_type": "markdown",
      "metadata": {
        "id": "BD6embMcV1x6"
      },
      "source": [
        "В нашем примере мы можем заметить, что вычислительный граф можно свести к двум операциям: получению выражения $w_0x_0+w_1x_1+w_2$ и последующему вычислению от него сигмоидальной функции.\n",
        "\n",
        "Функция сигмоиды:\n",
        "\n",
        "$$\\large \\displaystyle \\sigma(x) = \\frac{1}{1+e^{-x}}.$$"
      ]
    },
    {
      "cell_type": "markdown",
      "metadata": {
        "id": "qeRQj6F1V1x6"
      },
      "source": [
        "Важно отметить, что сигмоида обладает важным свойством: её производная может быть выражена через саму сигмоидальную функцию:\n",
        "\n",
        "$$\\large \\frac{d}{dx}\\sigma(x) = \\frac{d}{dx}(1+e^{-x})^{-1} = \\frac{e^{-x}}{(1+e^{-x})^{2}} = \\frac{1}{1+e^{-x}} \\cdot \\frac{1+e^{-x}-1}{1+e^{-x}} = \\sigma(x)\\cdot(1-\\sigma(x))$$"
      ]
    },
    {
      "cell_type": "markdown",
      "metadata": {
        "id": "i4sesWufV1x7"
      },
      "source": [
        "<center><img src =\"https://edunet.kea.su/repo/EduNet-content/dev-2.3/L05/out/compute_gradient_join_vertices_sigmoid_example.png\" width=\"800\"></center>"
      ]
    },
    {
      "cell_type": "code",
      "source": [],
      "metadata": {
        "id": "r-mf0yXMK4ag"
      },
      "execution_count": null,
      "outputs": []
    }
  ]
}